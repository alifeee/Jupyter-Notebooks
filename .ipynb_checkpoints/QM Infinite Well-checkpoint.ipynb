{
 "cells": [
  {
   "cell_type": "code",
   "execution_count": 1,
   "metadata": {},
   "outputs": [],
   "source": [
    "import bqplot\n",
    "from IPython.display import display\n",
    "import numpy as np\n",
    "from ipywidgets import widgets"
   ]
  },
  {
   "cell_type": "code",
   "execution_count": 2,
   "metadata": {},
   "outputs": [
    {
     "data": {
      "application/vnd.jupyter.widget-view+json": {
       "model_id": "2a9ccb5beb0c417282cca31471e821f0",
       "version_major": 2,
       "version_minor": 0
      },
      "text/plain": [
       "HBox(children=(Figure(animation_duration=1000, axes=[Axis(label='Position', scale=LinearScale(max=5.0, min=-5.…"
      ]
     },
     "metadata": {},
     "output_type": "display_data"
    }
   ],
   "source": [
    "# Size of well\n",
    "L = 4\n",
    "domain = {'min':-5, 'max':5}\n",
    "range_ = {'min':-1, 'max':1}\n",
    "\n",
    "def infWaveFunc(xs, L, n):\n",
    "    ys = [np.sqrt(2/L) * np.sin(n*np.pi*x/L + n*np.pi/2)\n",
    "          if x > -L/2 and x < L/2 else 0\n",
    "          for x in xs]\n",
    "    return ys\n",
    "\n",
    "xSc = bqplot.LinearScale(min=domain[\"min\"], max=domain[\"max\"])\n",
    "ySc = bqplot.LinearScale(min=range_[\"min\"], max=range_[\"max\"])\n",
    "xyScales = {'x':xSc, 'y':ySc}\n",
    "\n",
    "xAx = bqplot.Axis(label='Position', scale=xSc)\n",
    "yAx = bqplot.Axis(label='Wavefunction', scale=ySc,\n",
    "            orientation='vertical')\n",
    "\n",
    "well1 = bqplot.Lines(x=[-L/2, +L/2], y=[0, 0], scales=xyScales, colors=['black'])\n",
    "well2 = bqplot.Lines(x=[-L/2, -L/2], y=[0, 2], scales=xyScales, colors=['black'])\n",
    "well3 = bqplot.Lines(x=[+L/2, +L/2], y=[0, 2], scales=xyScales, colors=['black'])\n",
    "well = [well1, well2, well3]\n",
    "\n",
    "def addData(n):\n",
    "    waveLines[n-1].x = xs\n",
    "    waveLines[n-1].y = infWaveFunc(xs, L, n)\n",
    "    \n",
    "def removeData(n):\n",
    "    waveLines[n-1].x = []\n",
    "    waveLines[n-1].y = []\n",
    "    \n",
    "def update(change):\n",
    "    for i, checkbox in enumerate(checkboxes):\n",
    "        if checkbox.value == True and len(waveLines[i].x) == 0:\n",
    "            addData(i+1)\n",
    "        elif checkbox.value == False and len(waveLines[i].x) > 0:\n",
    "            removeData(i+1)\n",
    "\n",
    "xs = np.linspace(domain['min'], domain['max'], 1000)\n",
    "waveLines = []\n",
    "checkboxes = []\n",
    "for i in range(1,6):\n",
    "    waveLines.append(bqplot.Lines(x=[], y=[], scales=xyScales))\n",
    "    checkboxes.append(\n",
    "        widgets.Checkbox(\n",
    "            value = False,\n",
    "            description=\"n={}\".format(i),\n",
    "        )\n",
    "    )\n",
    "    checkboxes[-1].observe(update, names='value')\n",
    "\n",
    "fig = bqplot.Figure(marks=[*waveLines, *well], axes=[xAx, yAx],\n",
    "                    animation_duration=1000\n",
    "                   )\n",
    "\n",
    "display(\n",
    "    widgets.HBox([\n",
    "        fig, \n",
    "        widgets.VBox(checkboxes)\n",
    "    ])\n",
    ")\n"
   ]
  },
  {
   "cell_type": "markdown",
   "metadata": {},
   "source": [
    ".\n",
    "\n",
    ".\n",
    "\n",
    ",\n",
    "\n",
    ",\n",
    "\n",
    ",\n",
    "\n",
    ",\n",
    "\n",
    ",\n",
    "\n",
    ",\n",
    "\n",
    ",\n",
    "\n",
    ",\n",
    "\n"
   ]
  },
  {
   "cell_type": "code",
   "execution_count": null,
   "metadata": {},
   "outputs": [],
   "source": []
  }
 ],
 "metadata": {
  "kernelspec": {
   "display_name": "Python 3",
   "language": "python",
   "name": "python3"
  },
  "language_info": {
   "codemirror_mode": {
    "name": "ipython",
    "version": 3
   },
   "file_extension": ".py",
   "mimetype": "text/x-python",
   "name": "python",
   "nbconvert_exporter": "python",
   "pygments_lexer": "ipython3",
   "version": "3.7.2"
  },
  "latex_envs": {
   "LaTeX_envs_menu_present": true,
   "autoclose": false,
   "autocomplete": true,
   "bibliofile": "biblio.bib",
   "cite_by": "apalike",
   "current_citInitial": 1,
   "eqLabelWithNumbers": true,
   "eqNumInitial": 1,
   "hotkeys": {
    "equation": "Ctrl-E",
    "itemize": "Ctrl-I"
   },
   "labels_anchors": false,
   "latex_user_defs": false,
   "report_style_numbering": false,
   "user_envs_cfg": false
  }
 },
 "nbformat": 4,
 "nbformat_minor": 2
}
